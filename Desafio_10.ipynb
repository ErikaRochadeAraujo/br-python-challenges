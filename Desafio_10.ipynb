{
  "nbformat": 4,
  "nbformat_minor": 0,
  "metadata": {
    "anaconda-cloud": {},
    "kernelspec": {
      "display_name": "Python 3",
      "language": "python",
      "name": "python3"
    },
    "language_info": {
      "codemirror_mode": {
        "name": "ipython",
        "version": 3
      },
      "file_extension": ".py",
      "mimetype": "text/x-python",
      "name": "python",
      "nbconvert_exporter": "python",
      "pygments_lexer": "ipython3",
      "version": "3.6.5"
    },
    "colab": {
      "name": "Desafio 10.ipynb",
      "provenance": [],
      "include_colab_link": true
    }
  },
  "cells": [
    {
      "cell_type": "markdown",
      "metadata": {
        "id": "view-in-github",
        "colab_type": "text"
      },
      "source": [
        "<a href=\"https://colab.research.google.com/github/ErikaRochadeAraujo/br-python-challenges/blob/master/Desafio_10.ipynb\" target=\"_parent\"><img src=\"https://colab.research.google.com/assets/colab-badge.svg\" alt=\"Open In Colab\"/></a>"
      ]
    },
    {
      "cell_type": "markdown",
      "metadata": {
        "id": "a4-FLDRof6Jv"
      },
      "source": [
        "### Desafio 10\n",
        "\n",
        "Dada uma lista, divida-a em 3 partes iguais e reverta cada lista.\n",
        "\n",
        "Exemplo: \n",
        "\n",
        "sampleList = [11, 45, 8, 23, 14, 12, 78, 45, 89]\n",
        "\n",
        "Parte 1 [8, 45, 11]\n",
        "\n",
        "Parte 2 [12, 14, 23]\n",
        "\n",
        "Parte 3 [89, 45, 78]"
      ]
    },
    {
      "cell_type": "code",
      "metadata": {
        "id": "IJ70pUjnf6Jw"
      },
      "source": [
        "# Seu código"
      ],
      "execution_count": null,
      "outputs": []
    },
    {
      "cell_type": "code",
      "metadata": {
        "id": "pNrXNVqf8Wc1"
      },
      "source": [
        "def dividelista(lista):\n",
        "  parte1 = []\n",
        "  parte2 = []\n",
        "  parte3 = []\n",
        "  qtde = len(lista) / 3\n",
        "  if qtde.is_integer():\n",
        "    for elem in lista:\n",
        "        if len(parte1) < qtde:\n",
        "            parte1.append(elem)\n",
        "            parte_1 = reversed(parte1)\n",
        "        elif len(parte2) < qtde:\n",
        "            parte2.append(elem)\n",
        "            parte_2 = reversed(parte2)\n",
        "        else:\n",
        "            if len(parte3) < qtde:\n",
        "                parte3.append(elem)\n",
        "                parte_3 = reversed(parte3)\n",
        "    print(f'Parte 1: {list(parte_1)}'\n",
        "          f'\\nParte 2: {list(parte_2)}'\n",
        "          f'\\nParte 3: {list(parte_3)}')\n",
        "  else:\n",
        "    print('A respectiva lista não pode ser dividida em 3 partes iguais!')"
      ],
      "execution_count": 2,
      "outputs": []
    },
    {
      "cell_type": "code",
      "source": [
        "sampleList = [11, 45, 8, 23, 14, 12, 78, 45, 89]"
      ],
      "metadata": {
        "id": "GcHHuuYHRZF6"
      },
      "execution_count": 3,
      "outputs": []
    },
    {
      "cell_type": "code",
      "source": [
        "dividelista(sampleList)"
      ],
      "metadata": {
        "id": "_IL_m-klReAg",
        "outputId": "605a76aa-179a-40a3-8f7a-c8dad519011c",
        "colab": {
          "base_uri": "https://localhost:8080/"
        }
      },
      "execution_count": 4,
      "outputs": [
        {
          "output_type": "stream",
          "name": "stdout",
          "text": [
            "Parte 1: [8, 45, 11]\n",
            "Parte 2: [12, 14, 23]\n",
            "Parte 3: [89, 45, 78]\n"
          ]
        }
      ]
    },
    {
      "cell_type": "code",
      "source": [
        "outraLista = [1, 2, 3, 4, 5]"
      ],
      "metadata": {
        "id": "0L-oAp4kRj2T"
      },
      "execution_count": 5,
      "outputs": []
    },
    {
      "cell_type": "code",
      "source": [
        "dividelista(outraLista)"
      ],
      "metadata": {
        "id": "qW35Jw2eRsOx",
        "outputId": "06e41139-1577-4f9a-d658-5615633ba680",
        "colab": {
          "base_uri": "https://localhost:8080/"
        }
      },
      "execution_count": 6,
      "outputs": [
        {
          "output_type": "stream",
          "name": "stdout",
          "text": [
            "A respectiva lista não pode ser dividida em 3 partes iguais!\n"
          ]
        }
      ]
    }
  ]
}